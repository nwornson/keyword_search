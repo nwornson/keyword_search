{
 "cells": [
  {
   "cell_type": "code",
   "execution_count": 1,
   "metadata": {},
   "outputs": [],
   "source": [
    "import pandas as pd"
   ]
  },
  {
   "cell_type": "code",
   "execution_count": 5,
   "metadata": {},
   "outputs": [
    {
     "data": {
      "text/plain": [
       "False"
      ]
     },
     "execution_count": 5,
     "metadata": {},
     "output_type": "execute_result"
    }
   ],
   "source": [
    "# this function takes care of case sensativity\n",
    "def proc_row(str_series):\n",
    "    out = str_series.str.lower()\n",
    "    return out\n",
    "# check for instance of kwd\n",
    "test = df2.apply(lambda row: proc_row(row).str.contains('isolate').any(), axis=1)\n",
    "# boolean, True if any instance of kwd\n",
    "any(test)"
   ]
  },
  {
   "cell_type": "code",
   "execution_count": 6,
   "metadata": {},
   "outputs": [
    {
     "name": "stdout",
     "output_type": "stream",
     "text": [
      "For Analysis\n"
     ]
    }
   ],
   "source": [
    "for sheet in sheets:\n",
    "    df = pd.read_excel(xls,sheet)\n",
    "    if 'isolate' in str(df.columns).lower():\n",
    "        print(sheet)"
   ]
  },
  {
   "cell_type": "code",
   "execution_count": 7,
   "metadata": {},
   "outputs": [],
   "source": [
    "def xls_kwd_search(wb,kwd):\n",
    "    \n",
    "    # read in xlsx or xls\n",
    "    xls = pd.ExcelFile(wb)\n",
    "\n",
    "    # list of sheets\n",
    "    sheets = xls.sheet_names\n",
    "    \n",
    "    for sheet in sheets:\n",
    "        df = pd.read_excel(xls,sheet)\n",
    "        if kwd in str(df.columns).lower():\n",
    "            # return a boolean --> store filename or not\n",
    "            return True\n",
    "            break\n",
    "        else:\n",
    "            \n",
    "            col_search = df.apply(lambda row: proc_row(row).str.contains(kwd).any(), axis=1)\n",
    "            \n",
    "            # boolean, True if any instance of kwd\n",
    "            if any(col_search):\n",
    "                return True\n",
    "            else:\n",
    "                return False\n",
    "\n",
    "     "
   ]
  },
  {
   "cell_type": "code",
   "execution_count": 12,
   "metadata": {},
   "outputs": [],
   "source": [
    "# TODO --> case when file is encoded as cp1252\n",
    "\n",
    "def csv_kwd_search(csv,kwd):\n",
    "    \n",
    "    with open(csv) as f:\n",
    "        \n",
    "        encoding = f.encoding\n",
    "        \n",
    "    \n",
    "    df = pd.read_csv(csv,encoding = encoding)\n",
    "    \n",
    "    if 'isolate' in str(df.columns).lower():\n",
    "\n",
    "        return True\n",
    "    else:\n",
    "        \n",
    "        col_search = df.apply(lambda row: proc_row(row).str.contains(kwd).any(), axis=1)\n",
    "            \n",
    "        # boolean, True if any instance of kwd\n",
    "        if any(col_search):\n",
    "            return True\n",
    "        else:\n",
    "            return False\n",
    "  "
   ]
  },
  {
   "cell_type": "code",
   "execution_count": 14,
   "metadata": {},
   "outputs": [],
   "source": [
    "#  need to get complete list of files in a directory\n",
    "\n",
    "import os\n",
    "    \n",
    "def get_all_files(directory):\n",
    "    # output a list\n",
    "    f = []\n",
    "    # walk through all subdirectories\n",
    "    for (dirpath, dirnames, filenames) in os.walk(directory):\n",
    "        \n",
    "        for file in filenames:\n",
    "            # only keep workbooks and csv's\n",
    "            if '.csv' in file or '.xls' in file:\n",
    "                path_bad = os.path.join(dirpath,file)\n",
    "                path_good = path_bad.replace('\\\\','/')\n",
    "                f.append(path_good)\n",
    "    return f"
   ]
  },
  {
   "cell_type": "code",
   "execution_count": 16,
   "metadata": {},
   "outputs": [],
   "source": [
    "'''\n",
    "final function:\n",
    "    inputs:  \n",
    "        kwd:  keyword to be searched\n",
    "        Directory:  directory (and all subdirectories) to be searched in\n",
    "    \n",
    "    output:\n",
    "        dataframe:  a df of all filenames in the directry\n",
    "\n",
    "    * beware of using kwd as a parameter multiple times\n",
    "'''\n",
    "\n",
    "def kwd_search(kwd,directory):\n",
    "    \n",
    "    all_files = get_all_files(directory)\n",
    "    \n",
    "    out_list = []\n",
    "    \n",
    "    for file in all_files:\n",
    "        \n",
    "        if 'csv' in file:\n",
    "            \n",
    "            if csv_kwd_search(file,kwd):\n",
    "                \n",
    "                out_list.append(file)\n",
    "                \n",
    "        else:\n",
    "            \n",
    "            if xls_kwd_search(file,kwd):\n",
    "                \n",
    "                out_list.append(file)\n",
    "                \n",
    "    out_df = pd.DataFrame(out_list, columns = ['files'])\n",
    "    \n",
    "    return out_df\n",
    "        \n",
    "        "
   ]
  },
  {
   "cell_type": "code",
   "execution_count": 19,
   "metadata": {},
   "outputs": [],
   "source": []
  }
 ],
 "metadata": {
  "kernelspec": {
   "display_name": "Python 3",
   "language": "python",
   "name": "python3"
  },
  "language_info": {
   "codemirror_mode": {
    "name": "ipython",
    "version": 3
   },
   "file_extension": ".py",
   "mimetype": "text/x-python",
   "name": "python",
   "nbconvert_exporter": "python",
   "pygments_lexer": "ipython3",
   "version": "3.6.9"
  }
 },
 "nbformat": 4,
 "nbformat_minor": 2
}
